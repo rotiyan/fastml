{
 "cells": [
  {
   "cell_type": "code",
   "execution_count": 1,
   "id": "0dd9ad23",
   "metadata": {
    "scrolled": true
   },
   "outputs": [],
   "source": [
    "import uproot3 as up \n",
    "import numpy as np\n",
    "from skimage import transform\n",
    "from pylab import figure, cm\n",
    "from matplotlib.colors import LogNorm"
   ]
  },
  {
   "cell_type": "code",
   "execution_count": 2,
   "id": "b3eeb943",
   "metadata": {},
   "outputs": [
    {
     "data": {
      "text/plain": [
       "[b'AntiKt10LCTopoLeadJets_partonTruthLabel',\n",
       " b'AntiKt10LCTopoLeadJets_pt',\n",
       " b'AntiKt10LCTopoLeadJets_nConstitutents',\n",
       " b'AntiKt10LCTopoLeadJets_eta',\n",
       " b'AntiKt10LCTopoLeadJets_phi',\n",
       " b'AntiKt10LCTopoLeadJets_clus_calE',\n",
       " b'AntiKt10LCTopoLeadJets_clus_calEta',\n",
       " b'AntiKt10LCTopoLeadJets_clus_calPhi',\n",
       " b'AntiKt10LCTopoSubLeadJets_partonTruthLabel',\n",
       " b'AntiKt10LCTopoSubLeadJets_pt',\n",
       " b'AntiKt10LCTopoSubLeadJets_nConstitutents',\n",
       " b'AntiKt10LCTopoSubLeadJets_eta',\n",
       " b'AntiKt10LCTopoSubLeadJets_phi',\n",
       " b'AntiKt10LCTopoSubLeadJets_clus_calE',\n",
       " b'AntiKt10LCTopoSubLeadJets_clus_calEta',\n",
       " b'AntiKt10LCTopoSubLeadJets_clus_calPhi']"
      ]
     },
     "execution_count": 2,
     "metadata": {},
     "output_type": "execute_result"
    }
   ],
   "source": [
    "ttbar_events = up.open(\"/data/rohin/ttbar_Akt10.root\")['ntuple']\n",
    "ztt_events   = up.open(\"/data/rohin/ztt_Akt10.root\")['ntuple']\n",
    "\n",
    "ttbar_events.keys()"
   ]
  },
  {
   "cell_type": "code",
   "execution_count": 3,
   "id": "c63662bf",
   "metadata": {},
   "outputs": [],
   "source": [
    "df_tt   = ttbar_events.pandas.df(flatten=False)\n",
    "df_ztt  = ztt_events.pandas.df(flatten=False)"
   ]
  },
  {
   "cell_type": "code",
   "execution_count": 4,
   "id": "98b74146",
   "metadata": {
    "scrolled": false
   },
   "outputs": [
    {
     "data": {
      "image/png": "[encoded data removed]",
      "text/plain": [
       "<Figure size 432x288 with 1 Axes>"
      ]
     },
     "metadata": {
      "needs_background": "light"
     },
     "output_type": "display_data"
    }
   ],
   "source": [
    "import matplotlib.pyplot as plt\n",
    "plt.hist(df_tt['AntiKt10LCTopoLeadJets_pt']/1e3,bins=25,alpha=0.5,label='ttbar')\n",
    "plt.hist(df_ztt['AntiKt10LCTopoLeadJets_pt']/1e3,bins=25,alpha=0.5,label='ztt')\n",
    "plt.legend()\n",
    "plt.savefig(\"pt.png\")"
   ]
  },
  {
   "cell_type": "code",
   "execution_count": 5,
   "id": "cfd130e3",
   "metadata": {},
   "outputs": [],
   "source": [
    "df_ttSel = df_tt[df_tt['AntiKt10LCTopoLeadJets_pt']/1e3 > 100]\n",
    "df_zttSel= df_ztt[df_ztt['AntiKt10LCTopoLeadJets_pt']/1e3 > 100]"
   ]
  },
  {
   "cell_type": "code",
   "execution_count": 6,
   "id": "d204ae72",
   "metadata": {},
   "outputs": [
    {
     "data": {
      "text/plain": [
       "(array([8.5370e+03, 2.3952e+04, 2.5659e+04, 1.6676e+04, 8.6500e+03,\n",
       "        4.7060e+03, 3.1080e+03, 2.2220e+03, 1.6230e+03, 1.1820e+03,\n",
       "        8.7700e+02, 5.8500e+02, 4.5000e+02, 3.1700e+02, 2.3700e+02,\n",
       "        1.7100e+02, 1.1400e+02, 7.8000e+01, 6.2000e+01, 4.0000e+01,\n",
       "        1.8000e+01, 1.6000e+01, 8.0000e+00, 3.0000e+00, 6.0000e+00]),\n",
       " array([100.00695, 133.21011, 166.41328, 199.61644, 232.81961, 266.02277,\n",
       "        299.22592, 332.4291 , 365.63226, 398.83542, 432.0386 , 465.24176,\n",
       "        498.44492, 531.6481 , 564.85126, 598.05444, 631.25757, 664.46075,\n",
       "        697.6639 , 730.86707, 764.07025, 797.2734 , 830.47656, 863.67975,\n",
       "        896.8829 , 930.08606], dtype=float32),\n",
       " <BarContainer object of 25 artists>)"
      ]
     },
     "execution_count": 6,
     "metadata": {},
     "output_type": "execute_result"
    },
    {
     "data": {
      "image/png": "[encoded data removed]",
      "text/plain": [
       "<Figure size 1440x720 with 4 Axes>"
      ]
     },
     "metadata": {
      "needs_background": "light"
     },
     "output_type": "display_data"
    }
   ],
   "source": [
    "fig, axes = plt.subplots(2,2,figsize=(20,10))\n",
    "\n",
    "\n",
    "axes[0][0].hist(df_ttSel['AntiKt10LCTopoLeadJets_nConstitutents'],bins=60,alpha=0.5,label='ttbar')\n",
    "axes[0][0].hist(df_ztt['AntiKt10LCTopoLeadJets_nConstitutents'],bins=60,alpha=0.5,label='z->tau,tau')\n",
    "axes[0][0].set(xlabel='jetConstituents')\n",
    "axes[0][0].legend()\n",
    "\n",
    "\n",
    "\n",
    "axes[0][1].hist(df_ttSel['AntiKt10LCTopoLeadJets_pt']/1e3,bins=25,alpha=0.5,label='ttbar')\n",
    "axes[0][1].hist(df_zttSel['AntiKt10LCTopoLeadJets_pt']/1e3,bins=25,alpha=0.5,label='z->tau,tau')\n",
    "\n",
    "\n",
    "\n",
    "#df_ttSel['AntiKt10LCTopoSubLeadJets_nConstitutents'].describe()"
   ]
  },
  {
   "cell_type": "code",
   "execution_count": 7,
   "id": "724f623e",
   "metadata": {},
   "outputs": [],
   "source": [
    "#plt.hist(df_ttSel[\"AntiKt10LCTopoLeadJets_clus_calEta\"])"
   ]
  },
  {
   "cell_type": "code",
   "execution_count": 8,
   "id": "dae8e0f7",
   "metadata": {},
   "outputs": [],
   "source": [
    "def saveimage(df,imName):\n",
    "    #translate\n",
    "    leading_jet_images\n",
    "    x = pixel_edges()\n",
    "    df_ttSel[['modEta','modPhi']] = translate(df_ttSel,['AntiKt10LCTopoLeadJets_clus_calEta',\n",
    "                                                  'AntiKt10LCTopoLeadJets_clus_calPhi']).tolist()\n",
    "    df_zttSel[['modEta','modPhi']] = translate(df_zttSel,['AntiKt10LCTopoLeadJets_clus_calEta',\n",
    "                                                  'AntiKt10LCTopoLeadJets_clus_calPhi']).tolist()\n",
    "\n",
    "def translate(df,cols):\n",
    "    '''Convert selected df with selected columns into \n",
    "    numpy arrays'''\n",
    "    arrays = np.array([df[x] for x in cols])\n",
    "    '''Create a return vector of exactly the same shape\n",
    "    as the input'''\n",
    "    ret      = np.zeros((arrays.shape),dtype=object)\n",
    "\n",
    "    \n",
    "    '''Loop over the column names and subtract from every entry, the leading entry'''\n",
    "    for i,aCol in enumerate(cols):\n",
    "        col0 = arrays[i,:,:,][:,0]\n",
    "        ret[i,:] = (arrays[i,] - col0[:,np.newaxis])\n",
    "\n",
    "    return ret\n",
    "\n",
    "\n",
    "def pixel_edges(jet_size=1.0, pixel_size=(0.1, 0.1), border_size=0.5):\n",
    "    \"\"\"Return pixel edges required to contain all clusters.\n",
    "    border_size is interpreted as a fraction of the jet_size\n",
    "    \"\"\"\n",
    "    im_edge = (1. + border_size) * jet_size\n",
    "    return (np.arange(-im_edge, im_edge+pixel_size[0], pixel_size[0]),\n",
    "            np.arange(-im_edge, im_edge+pixel_size[1], pixel_size[1]))\n",
    "\n",
    "def pixelize(jet_csts, edges, cutoff=0.1):\n",
    "    \"\"\"Return eta-phi histogram of transverse energy deposits.\n",
    "    Optionally set all instensities below cutoff to zero.\n",
    "    \"\"\"\n",
    "    image, _, _ = np.histogram2d(\n",
    "        jet_csts['modEta'], jet_csts['modPhi'],\n",
    "        bins=(edges[0], edges[1]),\n",
    "        weights=jet_csts['AntiKt10LCTopoSubLeadJets_clus_calE'] * (jet_csts['AntiKt10LCTopoSubLeadJets_clus_calE'] > cutoff))\n",
    "    return image\n",
    "\n",
    "def pixelize2(data, edges, cutoff=0.1):\n",
    "    \"\"\"Return eta-phi histogram of transverse energy deposits.\n",
    "    Optionally set all instensities below cutoff to zero.\n",
    "    \"\"\"\n",
    "    image, _, _ = np.histogram2d(\n",
    "        data[0],data[1],\n",
    "        bins=(edges[0], edges[1]),\n",
    "        weights=data[2] * (data[2] > cutoff))\n",
    "    return image\n",
    "\n",
    "def getJetImages(df):\n",
    "    eta = translate(df,['AntiKt10LCTopoLeadJets_clus_calEta','AntiKt10LCTopoLeadJets_clus_calPhi'])[0]\n",
    "    phi = translate(df,['AntiKt10LCTopoLeadJets_clus_calEta','AntiKt10LCTopoLeadJets_clus_calPhi'])[1]\n",
    "    eng = df.AntiKt10LCTopoLeadJets_clus_calE.values\n",
    "    \n",
    "    edges = pixel_edges()\n",
    "    li_images = []\n",
    "    for i in range(eta.shape[0]):\n",
    "        li_images.append(pixelize2([eta[i],phi[i],eng[i]],edges))\n",
    "    return li_images\n",
    "\n",
    "def normalize(histo, multi=255):\n",
    "    \"\"\"\n",
    "    Normalize picture in [0,multi] range, with integer steps. E.g. multi=255 for 256 steps.\n",
    "    \"\"\"\n",
    "    return (histo/np.max(histo)*multi).astype(int)"
   ]
  },
  {
   "cell_type": "code",
   "execution_count": 9,
   "id": "e05be892",
   "metadata": {
    "scrolled": false
   },
   "outputs": [
    {
     "name": "stderr",
     "output_type": "stream",
     "text": [
      "/home/rnarayan/.conda/envs/hls4ml/lib/python3.7/site-packages/ipykernel_launcher.py:3: SettingWithCopyWarning: \n",
      "A value is trying to be set on a copy of a slice from a DataFrame.\n",
      "Try using .loc[row_indexer,col_indexer] = value instead\n",
      "\n",
      "See the caveats in the documentation: https://pandas.pydata.org/pandas-docs/stable/user_guide/indexing.html#returning-a-view-versus-a-copy\n",
      "  This is separate from the ipykernel package so we can avoid doing imports until\n",
      "/home/rnarayan/.conda/envs/hls4ml/lib/python3.7/site-packages/pandas/core/indexing.py:1700: SettingWithCopyWarning: \n",
      "A value is trying to be set on a copy of a slice from a DataFrame.\n",
      "Try using .loc[row_indexer,col_indexer] = value instead\n",
      "\n",
      "See the caveats in the documentation: https://pandas.pydata.org/pandas-docs/stable/user_guide/indexing.html#returning-a-view-versus-a-copy\n",
      "  self._setitem_single_column(loc, v, pi)\n",
      "/home/rnarayan/.conda/envs/hls4ml/lib/python3.7/site-packages/ipykernel_launcher.py:6: SettingWithCopyWarning: \n",
      "A value is trying to be set on a copy of a slice from a DataFrame.\n",
      "Try using .loc[row_indexer,col_indexer] = value instead\n",
      "\n",
      "See the caveats in the documentation: https://pandas.pydata.org/pandas-docs/stable/user_guide/indexing.html#returning-a-view-versus-a-copy\n",
      "  \n"
     ]
    }
   ],
   "source": [
    "x = pixel_edges()\n",
    "df_ttSel[['modEta','modPhi']] = translate(df_ttSel,['AntiKt10LCTopoLeadJets_clus_calEta',\n",
    "                                                  'AntiKt10LCTopoLeadJets_clus_calPhi']).tolist()\n",
    "\n",
    "df_zttSel[['modEta','modPhi']] = translate(df_zttSel,['AntiKt10LCTopoLeadJets_clus_calEta',\n",
    "                                                  'AntiKt10LCTopoLeadJets_clus_calPhi']).tolist()\n",
    "\n"
   ]
  },
  {
   "cell_type": "code",
   "execution_count": 10,
   "id": "5ef44722",
   "metadata": {},
   "outputs": [],
   "source": [
    "li_ttImgs  = getJetImages(df_ttSel)\n",
    "li_zttImgs = getJetImages(df_zttSel)\n",
    "np.savez_compressed('tt_leading_jet.npz', li_ttImgs)\n",
    "np.savez_compressed('ztt_leading_jet.npz',li_zttImgs)"
   ]
  },
  {
   "cell_type": "code",
   "execution_count": 11,
   "id": "c088db2d",
   "metadata": {},
   "outputs": [],
   "source": [
    "img1 = np.average(li_ttImgs,axis=0)\n",
    "img2 = np.average(li_zttImgs,axis=0)"
   ]
  },
  {
   "cell_type": "code",
   "execution_count": 12,
   "id": "51e75d84",
   "metadata": {},
   "outputs": [],
   "source": [
    "img1 = normalize(img1)\n",
    "img2 = normalize(img2)"
   ]
  },
  {
   "cell_type": "code",
   "execution_count": 13,
   "id": "79e87b49",
   "metadata": {
    "scrolled": true
   },
   "outputs": [
    {
     "data": {
      "text/plain": [
       "<matplotlib.image.AxesImage at 0x7f46b9b446d0>"
      ]
     },
     "execution_count": 13,
     "metadata": {},
     "output_type": "execute_result"
    },
    {
     "data": {
      "image/png": "[encoded data removed]",
      "text/plain": [
       "<Figure size 432x288 with 1 Axes>"
      ]
     },
     "metadata": {
      "needs_background": "light"
     },
     "output_type": "display_data"
    }
   ],
   "source": [
    "cmap = plt.get_cmap('gray')\n",
    "import matplotlib\n",
    "plt.imshow(img1,norm=matplotlib.colors.LogNorm())#,cmap=cmap)"
   ]
  },
  {
   "cell_type": "code",
   "execution_count": 14,
   "id": "799dbd96",
   "metadata": {},
   "outputs": [
    {
     "data": {
      "text/plain": [
       "<matplotlib.image.AxesImage at 0x7f46a0eb5ed0>"
      ]
     },
     "execution_count": 14,
     "metadata": {},
     "output_type": "execute_result"
    },
    {
     "data": {
      "image/png": "[encoded data removed]",
      "text/plain": [
       "<Figure size 432x288 with 1 Axes>"
      ]
     },
     "metadata": {
      "needs_background": "light"
     },
     "output_type": "display_data"
    }
   ],
   "source": [
    "plt.imshow(img2,norm=matplotlib.colors.LogNorm())#,cmap=cmap)"
   ]
  },
  {
   "cell_type": "code",
   "execution_count": 16,
   "id": "890f98e3",
   "metadata": {},
   "outputs": [
    {
     "name": "stdout",
     "output_type": "stream",
     "text": [
      "99856\n",
      "99297\n"
     ]
    }
   ],
   "source": [
    "from sklearn.model_selection import train_test_split\n",
    "import tensorflow.keras as keras\n",
    "x_data = np.concatenate((np.array(li_ttImgs), np.array(li_zttImgs)))\n",
    "x_data = x_data.reshape(x_data.shape + (1,)).astype('float32')\n",
    "x_data /= 255.\n",
    "y_data = np.array([0]*len(li_ttImgs)+[1]*len(li_zttImgs))\n",
    "y_data = keras.utils.to_categorical(y_data, 2)\n",
    "\n",
    "print(len(li_ttImgs))\n",
    "print(len(li_zttImgs))\n",
    "x_train, x_test, y_train, y_test = train_test_split(x_data,y_data,test_size=0.33, random_state=42)\n",
    "\n",
    "import h5py\n",
    "h5 = h5py.File('jetImages.h5','w')\n",
    "h5.create_dataset(\"x_train\",data=x_train)\n",
    "h5.create_dataset(\"x_test\",data=x_test)\n",
    "h5.create_dataset(\"y_train\",data=y_train)\n",
    "h5.create_dataset(\"y_test\",data=y_test)\n",
    "h5.close()"
   ]
  },
  {
   "cell_type": "code",
   "execution_count": null,
   "id": "639eb893",
   "metadata": {
    "scrolled": true
   },
   "outputs": [],
   "source": [
    "from tensorflow.keras.models import Sequential\n",
    "from tensorflow.keras.layers import Dense, Flatten, Dropout, Activation, Conv2D, MaxPooling2D\n",
    "\n",
    "model_cnn = Sequential()\n",
    "model_cnn.add(Conv2D(32, (3, 3), input_shape=(30, 30,1), activation='relu'))\n",
    "model_cnn.add(Conv2D(32, (3, 3), activation='relu'))\n",
    "model_cnn.add(MaxPooling2D(pool_size=(2, 2)))\n",
    "model_cnn.add(Dropout(0.25))\n",
    "\n",
    "model_cnn.add(Conv2D(64, (3, 3), padding='same', activation='relu'))\n",
    "model_cnn.add(Conv2D(64, (3, 3), padding='same', activation='relu'))\n",
    "model_cnn.add(MaxPooling2D(pool_size=(2, 2)))\n",
    "model_cnn.add(Dropout(0.25))\n",
    "\n",
    "model_cnn.add(Flatten())\n",
    "model_cnn.add(Dense(300, activation='relu'))\n",
    "model_cnn.add(Dropout(0.5))\n",
    "model_cnn.add(Dense(2, activation='softmax'))\n",
    "\n",
    "# Compile model\n",
    "\n",
    "model_cnn.compile(loss='categorical_crossentropy', optimizer='adam', metrics=['accuracy'])\n",
    "history_cnn = model_cnn.fit(x_train, y_train, validation_split=0.2, epochs=40, batch_size=100, shuffle=True, verbose=1)"
   ]
  },
  {
   "cell_type": "code",
   "execution_count": null,
   "id": "039d25f2",
   "metadata": {},
   "outputs": [],
   "source": [
    "#x_train\n",
    "predictions_cnn = model_cnn.predict(x_test)\n",
    "model_cnn.save('cnn.h5')"
   ]
  },
  {
   "cell_type": "code",
   "execution_count": null,
   "id": "017e0aa6",
   "metadata": {},
   "outputs": [],
   "source": [
    "#fig, axes = plt.subplots(1,2,figsize=(10,4))\n",
    "from sklearn.metrics import roc_curve\n",
    "fpr_cnn, tpr_cnn, thresholds = roc_curve(y_test.ravel(), predictions_cnn.ravel())\n",
    "\n",
    "from sklearn.metrics import auc\n",
    "auc = auc(fpr_cnn, tpr_cnn)"
   ]
  },
  {
   "cell_type": "code",
   "execution_count": null,
   "id": "eb8cc137",
   "metadata": {},
   "outputs": [],
   "source": [
    "plt.plot([0, 1], [0, 1], 'k--')\n",
    "plt.plot(fpr_cnn, tpr_cnn, label='Convolutional NN (area = {:.3f})'.format(auc))\n",
    "plt.gca().set(xlabel='False positive rate', ylabel='True positive rate', title='ROC curve', xlim=(-0.01,1.01), ylim=(-0.01,1.01))\n",
    "plt.grid(True, which=\"both\")\n",
    "plt.legend(loc='lower right');\n",
    "plt.savefig('ROC_curve.png')"
   ]
  },
  {
   "cell_type": "code",
   "execution_count": null,
   "id": "328c86e2",
   "metadata": {},
   "outputs": [],
   "source": [
    "np.seterr(divide='ignore', invalid='ignore') # disable warning for 1/0 divisions\n",
    "plt.plot(thresholds, 1/thresholds, 'k--')\n",
    "plt.plot(tpr_cnn, 1/fpr_cnn, label='Convolutional NN low pT ')\n",
    "plt.gca().set(ylabel='1/$\\epsilon_B$ - 1/False positive rate', xlabel='$\\epsilon_S$ - True positive rate', \n",
    "              title='', xlim=(-0.01,1.01), ylim=(1,5*10**3), yscale='log')\n",
    "plt.grid(True, which=\"both\")\n",
    "plt.legend();"
   ]
  },
  {
   "cell_type": "markdown",
   "id": "dc4294c1",
   "metadata": {},
   "source": [
    "# Hyper parameter optimization using kerasTune\n"
   ]
  },
  {
   "cell_type": "code",
   "execution_count": null,
   "id": "26d73e62",
   "metadata": {},
   "outputs": [],
   "source": [
    "import kerastuner as kt\n",
    "from kerastuner.tuners import Hyperband\n",
    "\n",
    "from qkeras import QActivation\n",
    "from qkeras import QDense, QConv2D\n",
    "from qkeras import quantized_bits\n",
    "from qkeras import QBatchNormalization\n",
    "from tensorflow_model_optimization.sparsity.keras import prune_low_magnitude\n",
    "\n",
    "def buildmodel(hp):\n",
    "    model_cnn = Sequential()\n",
    "    model_cnn.add(Conv2D(32, (3, 3), input_shape=(30, 30,1), activation='relu'))\n",
    "    model_cnn.add(Conv2D(32, (3, 3), activation='relu'))\n",
    "    model_cnn.add(MaxPooling2D(pool_size=(2, 2)))\n",
    "    model_cnn.add(Dropout(0.25))\n",
    "    \n",
    "    model_cnn.add(Conv2D(64, (3, 3), padding='same', activation='relu'))\n",
    "    model_cnn.add(Conv2D(64, (3, 3), padding='same', activation='relu'))\n",
    "    model_cnn.add(MaxPooling2D(pool_size=(2, 2)))\n",
    "    model_cnn.add(Dropout(0.25))\n",
    "    \n",
    "    model_cnn.add(Flatten())\n",
    "    model_cnn.add(Dense(300, activation='relu'))\n",
    "    model_cnn.add(Dropout(0.5))\n",
    "    model_cnn.add(Dense(2, activation='softmax'))\n",
    "\n",
    "def qkeras_cnn(name_, Inputs,nclasses,filters,kernel,strides,\n",
    "               pooling, dropout, activation, pruning_params = {},qb=quantized_bits(6,0,alpha=1)):\n",
    "    length = len(filters)\n",
    "    if any(len(lst) != length for lst in [filters, kernel, strides,pooling,dropout]):\n",
    "        sys.exit(\"One value for stride and kernel must be added for each filter! Exiting\") \n",
    "    x = x_in = Inputs\n",
    "    x = BatchNormalization()(x)\n",
    "    x = ZeroPadding2D( padding=(1, 1), data_format=\"channels_last\") (x)\n",
    "    for i,(f,k,s,p,d) in enumerate(zip(filters,kernel,strides,pooling,dropout)):\n",
    "        print ((\"Adding layer with {} filters, kernel_size=({},{}), strides=({},{})\").format(f,k,k,s,s))\n",
    "        x = QConv2D(int(f), kernel_size=(int(k), int(k)), strides=(int(s),int(s)),\n",
    "                kernel_quantizer=qb, bias_quantizer=qb,\n",
    "                kernel_initializer='lecun_uniform', kernel_regularizer=l1(0.0001), use_bias=False, name='conv_%i'%i)(x) \n",
    "        if float(p) != 0:\n",
    "            x = MaxPooling2D(pool_size = (int(p),int(p)) )(x)\n",
    "        x = BatchNormalization()(x)\n",
    "        x = Activation(activation,name='conv_act_%i'%i)(x)\n",
    "    x = Flatten()(x)\n",
    "    x = QDense(128,kernel_quantizer=qb, bias_quantizer=qb,kernel_initializer='lecun_uniform', kernel_regularizer=l1(0.0001),name='dense_1', use_bias=False)(x)\n",
    "    x = Dropout(0.25) (x)\n",
    "    x = BatchNormalization()(x)\n",
    "    x = Activation(activation,name='dense_act')(x)\n",
    "    x_out = Dense(nclasses, activation='softmax',name='output')(x)\n",
    "    model = Model(inputs=[x_in], outputs=[x_out], name=name_)\n",
    "    return model\n"
   ]
  },
  {
   "cell_type": "code",
   "execution_count": null,
   "id": "df475704",
   "metadata": {},
   "outputs": [],
   "source": [
    "model_q = qkeras_cnn(\"qmodel\",)"
   ]
  },
  {
   "cell_type": "code",
   "execution_count": null,
   "id": "bb2c2ad2",
   "metadata": {},
   "outputs": [],
   "source": []
  }
 ],
 "metadata": {
  "celltoolbar": "Raw Cell Format",
  "kernelspec": {
   "display_name": "Python 3",
   "language": "python",
   "name": "python3"
  },
  "language_info": {
   "codemirror_mode": {
    "name": "ipython",
    "version": 3
   },
   "file_extension": ".py",
   "mimetype": "text/x-python",
   "name": "python",
   "nbconvert_exporter": "python",
   "pygments_lexer": "ipython3",
   "version": "3.7.10"
  }
 },
 "nbformat": 4,
 "nbformat_minor": 5
}
